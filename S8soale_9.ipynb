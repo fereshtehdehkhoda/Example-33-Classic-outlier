{
  "cells": [
    {
      "cell_type": "markdown",
      "metadata": {
        "id": "view-in-github",
        "colab_type": "text"
      },
      "source": [
        "<a href=\"https://colab.research.google.com/github/fereshtehdehkhoda/Example-33-Classic-outlier/blob/main/S8soale_9.ipynb\" target=\"_parent\"><img src=\"https://colab.research.google.com/assets/colab-badge.svg\" alt=\"Open In Colab\"/></a>"
      ]
    },
    {
      "cell_type": "code",
      "execution_count": null,
      "id": "afb6cd04-775f-4396-ba6a-d102dd445a16",
      "metadata": {
        "id": "afb6cd04-775f-4396-ba6a-d102dd445a16"
      },
      "outputs": [],
      "source": [
        "#با استفاده از متد کلاسیک، کدامیک از درایه‌های زیر بعنوان داده پرت شناسایی می‌شود؟"
      ]
    },
    {
      "cell_type": "code",
      "execution_count": null,
      "id": "61b6632d-1057-43ca-b29d-b6da72fc25ea",
      "metadata": {
        "id": "61b6632d-1057-43ca-b29d-b6da72fc25ea"
      },
      "outputs": [],
      "source": [
        "import numpy as np\n",
        "import pandas as pd"
      ]
    },
    {
      "cell_type": "code",
      "execution_count": null,
      "id": "80bdc6fc-63c9-4d04-9d8d-5a445ca43041",
      "metadata": {
        "id": "80bdc6fc-63c9-4d04-9d8d-5a445ca43041"
      },
      "outputs": [],
      "source": [
        "d1=np.array([100000000,10000,1000,4,4,4,4,4,3,3,3,3,3,2,2,2,2,-200])"
      ]
    },
    {
      "cell_type": "code",
      "execution_count": null,
      "id": "34b4c54a-c576-4ef0-ad93-b2dbdd72d6cf",
      "metadata": {
        "id": "34b4c54a-c576-4ef0-ad93-b2dbdd72d6cf",
        "outputId": "90e212a7-d3b5-4b38-bb97-d6b4d2befff4"
      },
      "outputs": [
        {
          "name": "stdout",
          "output_type": "stream",
          "text": [
            "[ True False False False False False False False False False False False\n",
            " False False False False False False]\n"
          ]
        }
      ],
      "source": [
        "print(abs((d1 - np.mean(d1))/np.std(d1)) >3)"
      ]
    },
    {
      "cell_type": "code",
      "execution_count": null,
      "id": "8931a3c5-d367-4fb1-bc42-bd49fcb1ff12",
      "metadata": {
        "id": "8931a3c5-d367-4fb1-bc42-bd49fcb1ff12"
      },
      "outputs": [],
      "source": []
    },
    {
      "cell_type": "code",
      "execution_count": null,
      "id": "3d1b8ff8-fb2b-40a2-ae73-19bd09f42e99",
      "metadata": {
        "id": "3d1b8ff8-fb2b-40a2-ae73-19bd09f42e99"
      },
      "outputs": [],
      "source": []
    }
  ],
  "metadata": {
    "kernelspec": {
      "display_name": "Python 3 (ipykernel)",
      "language": "python",
      "name": "python3"
    },
    "language_info": {
      "codemirror_mode": {
        "name": "ipython",
        "version": 3
      },
      "file_extension": ".py",
      "mimetype": "text/x-python",
      "name": "python",
      "nbconvert_exporter": "python",
      "pygments_lexer": "ipython3",
      "version": "3.12.4"
    },
    "colab": {
      "provenance": [],
      "include_colab_link": true
    }
  },
  "nbformat": 4,
  "nbformat_minor": 5
}